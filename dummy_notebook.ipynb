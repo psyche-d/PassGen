{
 "cells": [
  {
   "cell_type": "code",
   "execution_count": 3,
   "id": "6f41bc9d",
   "metadata": {},
   "outputs": [],
   "source": [
    "import random\n",
    "import string"
   ]
  },
  {
   "cell_type": "code",
   "execution_count": 32,
   "id": "526db645",
   "metadata": {},
   "outputs": [
    {
     "name": "stdout",
     "output_type": "stream",
     "text": [
      "RANDOM PASSWORD GENERATOR\n",
      "--------------------------\n",
      "The password will be 20 digits long.\n",
      "The password WILL include numerals.\n",
      "The password will NOT include alphabets\n",
      "The password will NOT include special characters\n",
      "--------------------------\n",
      "Your password is 98549849559276089317\n",
      "--------------------------\n",
      "New Password\n",
      "--------------------------\n",
      "The password will be 15 digits long.\n",
      "The password will NOT include numerals\n",
      "The password will NOT include alphabets\n",
      "The password WILL include special characters.\n",
      "--------------------------\n",
      "Your password is '\">:/[^-,`,($}%\n"
     ]
    }
   ],
   "source": [
    "print(\"RANDOM PASSWORD GENERATOR\")\n",
    "print(\"--------------------------\")\n",
    "##DEFINING OPEN ENDED INPUTS\n",
    "def input_validation(prompt, TypeInput=str, min_value=None, max_value=None):\n",
    "    while True:\n",
    "        try: \n",
    "         UserInput = TypeInput(input(prompt))\n",
    "         if min_value is not None and UserInput < min_value :\n",
    "           print (f\"Value Inserted does not fulfil the requirements of at least {min_value} numbers. Please key it in again.\")\n",
    "           continue\n",
    "         if max_value is not None and UserInput > max_value:\n",
    "           print(f\"Value Inserted does not fulfil the requirements of at most {max_value} numbers. Please key it in again.\")\n",
    "           continue\n",
    "         return UserInput\n",
    "        except ValueError:\n",
    "           inputtype = TypeInput.__name__\n",
    "           print(f\"User imput requires a valid {inputtype}\")\n",
    "\n",
    "\n",
    "##DEFINING Y/N INPUTS           \n",
    "def YNvalidation(prompt=\"Enter Y or N: \"):\n",
    "    while True:\n",
    "        response = input(prompt).strip().upper()\n",
    "        if response in (\"Y\", \"N\"):\n",
    "            return response\n",
    "        print(\"Invalid input. Please enter Y or N.\")\n",
    "\n",
    "\n",
    "##GENERATING CODE\n",
    "while True:\n",
    " PassLength = input_validation((\"How long shall your password be?(Password up to 20 characters)\"),int,0,20)\n",
    " print(\"The password will be \" + str(PassLength) + \" digits long.\")\n",
    " PresenceNumerals = YNvalidation(\"Do you want numbers in your password? (Y/N)\") == \"Y\"\n",
    " if PresenceNumerals == True:\n",
    "    print (\"The password WILL include numerals.\")\n",
    " else:\n",
    "    print (\"The password will NOT include numerals\")\n",
    " PresenceAlphabets = YNvalidation(\"Do you want alphabets in your password? (Y/N)\") ==\"Y\"\n",
    " if PresenceAlphabets == True:\n",
    "    print (\"The password WILL include alphabets.\")\n",
    " else:\n",
    "    print (\"The password will NOT include alphabets\")\n",
    " PresenceSpecChar = YNvalidation(\"Do you want special characters in your password? (Y/N)\") ==\"Y\"\n",
    " if PresenceSpecChar == True:\n",
    "    print (\"The password WILL include special characters.\")\n",
    " else:\n",
    "    print (\"The password will NOT include special characters\")\n",
    " digits = string.digits if PresenceNumerals else \"\"\n",
    " letters = string.ascii_letters if PresenceAlphabets else \"\"\n",
    " symbols = string.punctuation if PresenceSpecChar else \"\"\n",
    " all_chars = letters + digits + symbols\n",
    " if all_chars == \"\":\n",
    "    print(\"You have not selected any character types! Please select again!\")\n",
    " else: \n",
    "    password = ''.join(random.choice(all_chars) for _ in range(PassLength))\n",
    "    print(\"--------------------------\")\n",
    "    print(\"Your password is \" + password )\n",
    "    ChangePasswordGenerated = YNvalidation(\"Would you like a new password? (Y/N)\")\n",
    "    if ChangePasswordGenerated == \"N\":\n",
    "        break\n",
    "    else:\n",
    "       print(\"--------------------------\")\n",
    "       print(\"New Password\")\n",
    "       print(\"--------------------------\")\n",
    "\n",
    "  \n",
    " \n",
    "\n",
    "\n",
    "\n",
    "\n",
    "     \n",
    "\n"
   ]
  },
  {
   "cell_type": "code",
   "execution_count": null,
   "id": "ff6ebec6",
   "metadata": {},
   "outputs": [],
   "source": []
  },
  {
   "cell_type": "code",
   "execution_count": null,
   "id": "730402de",
   "metadata": {},
   "outputs": [],
   "source": []
  }
 ],
 "metadata": {
  "kernelspec": {
   "display_name": "base",
   "language": "python",
   "name": "python3"
  },
  "language_info": {
   "codemirror_mode": {
    "name": "ipython",
    "version": 3
   },
   "file_extension": ".py",
   "mimetype": "text/x-python",
   "name": "python",
   "nbconvert_exporter": "python",
   "pygments_lexer": "ipython3",
   "version": "3.11.5"
  }
 },
 "nbformat": 4,
 "nbformat_minor": 5
}
